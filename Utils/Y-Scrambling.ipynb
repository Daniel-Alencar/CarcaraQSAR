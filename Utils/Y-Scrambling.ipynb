{
 "cells": [
  {
   "cell_type": "code",
   "execution_count": 2,
   "id": "d921da1f",
   "metadata": {},
   "outputs": [
    {
     "ename": "TypeError",
     "evalue": "DataFrame.drop() takes from 1 to 2 positional arguments but 3 were given",
     "output_type": "error",
     "traceback": [
      "\u001b[0;31m---------------------------------------------------------------------------\u001b[0m",
      "\u001b[0;31mTypeError\u001b[0m                                 Traceback (most recent call last)",
      "Cell \u001b[0;32mIn[2], line 12\u001b[0m\n\u001b[1;32m      9\u001b[0m data \u001b[38;5;241m=\u001b[39m pd\u001b[38;5;241m.\u001b[39mread_csv(\u001b[38;5;124m'\u001b[39m\u001b[38;5;124mbase3.csv\u001b[39m\u001b[38;5;124m'\u001b[39m)\n\u001b[1;32m     11\u001b[0m idx \u001b[38;5;241m=\u001b[39m [\u001b[38;5;241m77\u001b[39m, \u001b[38;5;241m81\u001b[39m, \u001b[38;5;241m84\u001b[39m, \u001b[38;5;241m92\u001b[39m, \u001b[38;5;241m98\u001b[39m]\n\u001b[0;32m---> 12\u001b[0m data \u001b[38;5;241m=\u001b[39m \u001b[43mdata\u001b[49m\u001b[38;5;241;43m.\u001b[39;49m\u001b[43mdrop\u001b[49m\u001b[43m(\u001b[49m\u001b[43midx\u001b[49m\u001b[43m,\u001b[49m\u001b[38;5;241;43m0\u001b[39;49m\u001b[43m)\u001b[49m\n\u001b[1;32m     13\u001b[0m data\u001b[38;5;241m.\u001b[39mshape\n\u001b[1;32m     15\u001b[0m \u001b[38;5;66;03m# Split the data into two dataframes\u001b[39;00m\n",
      "\u001b[0;31mTypeError\u001b[0m: DataFrame.drop() takes from 1 to 2 positional arguments but 3 were given"
     ]
    }
   ],
   "source": [
    "import pandas as pd\n",
    "from sklearn.ensemble import RandomForestRegressor\n",
    "from sklearn.metrics import r2_score\n",
    "import numpy as np\n",
    "from sklearn.model_selection import train_test_split\n",
    "from scipy import stats\n",
    "from sklearn.model_selection import LeaveOneOut\n",
    "\n",
    "data = pd.read_csv('base3.csv')\n",
    "\n",
    "idx = [77, 81, 84, 92, 98]\n",
    "data = data.drop(idx,0)\n",
    "data.shape\n",
    "\n",
    "# Split the data into two dataframes\n",
    "X_data = data.iloc[:,:-1]\n",
    "y_data = data.iloc[:,-1].to_numpy()"
   ]
  },
  {
   "cell_type": "code",
   "execution_count": 2,
   "id": "5584b87b",
   "metadata": {},
   "outputs": [],
   "source": [
    "def run_exp():\n",
    "\n",
    "    loo = LeaveOneOut()    \n",
    "    #np.random.shuffle(y_data)\n",
    "        \n",
    "    L_Y = []\n",
    "    L_Y_pred = []\n",
    "    for i, (train_index, test_index) in enumerate(loo.split(data)):\n",
    "\n",
    "        X_train = data.iloc[train_index,:-1]\n",
    "        Y_train = data.iloc[train_index,-1]    \n",
    "        X_teste = data.iloc[test_index,:-1]\n",
    "        Y_teste = data.iloc[test_index,-1]\n",
    "\n",
    "        rf = RandomForestRegressor(n_estimators=100, max_features=4)\n",
    "        rf = rf.fit(X_train, Y_train)\n",
    "        \n",
    "        y_pred = rf.predict(X_teste)\n",
    "        L_Y.append(list(Y_teste)[0])\n",
    "        L_Y_pred.append(y_pred)\n",
    "        \n",
    "    L = [x[0] for x in L_Y_pred]\n",
    "    \n",
    "    r2 = r2_score(L_Y, L)\n",
    "    \n",
    "    return r2"
   ]
  },
  {
   "cell_type": "code",
   "execution_count": 3,
   "id": "b07e6bf7",
   "metadata": {},
   "outputs": [
    {
     "name": "stdout",
     "output_type": "stream",
     "text": [
      "0.6356176819994921\n",
      "0.6318081350865384\n",
      "0.6219105607216029\n",
      "0.636639784288288\n",
      "0.6306742583001073\n",
      "0.6348293585560882\n",
      "0.6339699077721973\n",
      "0.630787361476528\n",
      "0.630762608598527\n",
      "0.6352418676374887\n",
      "0.6310428727150403\n",
      "0.6357516523329119\n",
      "0.619349677452842\n",
      "0.6171808995112931\n",
      "0.6226571204636514\n",
      "0.6332796453609909\n",
      "0.6318916751656528\n",
      "0.6381566871653339\n",
      "0.6303644732774514\n",
      "0.6291340098392189\n",
      "0.640210954107097\n",
      "0.6334573783168723\n",
      "0.6259418654322789\n",
      "0.6316920813489948\n",
      "0.6359856920600903\n",
      "0.6357961504554482\n",
      "0.6230726252033782\n",
      "0.6183668258485868\n",
      "0.625822871848729\n",
      "0.6301221444345486\n",
      "0.6330033904221423\n",
      "0.621033779134675\n",
      "0.6319659623249482\n",
      "0.6132692014489018\n",
      "0.6448293861698615\n",
      "0.6345630383721379\n",
      "0.6427007034969916\n",
      "0.6221916937844179\n",
      "0.6275231128086056\n",
      "0.6400900823760939\n",
      "0.6247062045445515\n",
      "0.6277389356344806\n",
      "0.6325586275468433\n",
      "0.6262933544516041\n",
      "0.6367689739263089\n",
      "0.6245871961246049\n",
      "0.639760456787951\n",
      "0.631494200200736\n",
      "0.6430461806007814\n",
      "0.6365622999756413\n"
     ]
    }
   ],
   "source": [
    "for _ in range(50):    \n",
    "    r2 = run_exp()\n",
    "    print(r2)"
   ]
  }
 ],
 "metadata": {
  "kernelspec": {
   "display_name": "Python 3 (ipykernel)",
   "language": "python",
   "name": "python3"
  },
  "language_info": {
   "codemirror_mode": {
    "name": "ipython",
    "version": 3
   },
   "file_extension": ".py",
   "mimetype": "text/x-python",
   "name": "python",
   "nbconvert_exporter": "python",
   "pygments_lexer": "ipython3",
   "version": "3.10.9"
  }
 },
 "nbformat": 4,
 "nbformat_minor": 5
}
