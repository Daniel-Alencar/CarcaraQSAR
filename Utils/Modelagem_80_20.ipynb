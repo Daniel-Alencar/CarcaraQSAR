{
 "cells": [
  {
   "cell_type": "code",
   "execution_count": 1,
   "metadata": {},
   "outputs": [
    {
     "data": {
      "text/html": [
       "<div>\n",
       "<style scoped>\n",
       "    .dataframe tbody tr th:only-of-type {\n",
       "        vertical-align: middle;\n",
       "    }\n",
       "\n",
       "    .dataframe tbody tr th {\n",
       "        vertical-align: top;\n",
       "    }\n",
       "\n",
       "    .dataframe thead th {\n",
       "        text-align: right;\n",
       "    }\n",
       "</style>\n",
       "<table border=\"1\" class=\"dataframe\">\n",
       "  <thead>\n",
       "    <tr style=\"text-align: right;\">\n",
       "      <th></th>\n",
       "      <th>0</th>\n",
       "      <th>1</th>\n",
       "    </tr>\n",
       "  </thead>\n",
       "  <tbody>\n",
       "    <tr>\n",
       "      <th>NNRS</th>\n",
       "      <td>0.750000</td>\n",
       "      <td>0.750000</td>\n",
       "    </tr>\n",
       "    <tr>\n",
       "      <th>GATS5v</th>\n",
       "      <td>0.857987</td>\n",
       "      <td>1.052524</td>\n",
       "    </tr>\n",
       "    <tr>\n",
       "      <th>GATS7i</th>\n",
       "      <td>1.166730</td>\n",
       "      <td>0.904085</td>\n",
       "    </tr>\n",
       "    <tr>\n",
       "      <th>P_VSA_LogP_4</th>\n",
       "      <td>121.268295</td>\n",
       "      <td>88.678150</td>\n",
       "    </tr>\n",
       "    <tr>\n",
       "      <th>P_VSA_s_5</th>\n",
       "      <td>33.190527</td>\n",
       "      <td>18.010751</td>\n",
       "    </tr>\n",
       "    <tr>\n",
       "      <th>Eta_betaP</th>\n",
       "      <td>25.000000</td>\n",
       "      <td>22.500000</td>\n",
       "    </tr>\n",
       "    <tr>\n",
       "      <th>Chi1_EA(dm)</th>\n",
       "      <td>6.140888</td>\n",
       "      <td>14.113280</td>\n",
       "    </tr>\n",
       "    <tr>\n",
       "      <th>SM11_AEA(ri)</th>\n",
       "      <td>4.575986</td>\n",
       "      <td>4.609386</td>\n",
       "    </tr>\n",
       "    <tr>\n",
       "      <th>Mor13v</th>\n",
       "      <td>-0.879274</td>\n",
       "      <td>-1.088973</td>\n",
       "    </tr>\n",
       "    <tr>\n",
       "      <th>B07[N-F]</th>\n",
       "      <td>1.000000</td>\n",
       "      <td>0.000000</td>\n",
       "    </tr>\n",
       "    <tr>\n",
       "      <th>F05[N-F]</th>\n",
       "      <td>1.000000</td>\n",
       "      <td>0.000000</td>\n",
       "    </tr>\n",
       "    <tr>\n",
       "      <th>F05[O-O]</th>\n",
       "      <td>0.000000</td>\n",
       "      <td>0.000000</td>\n",
       "    </tr>\n",
       "    <tr>\n",
       "      <th>LLS_01</th>\n",
       "      <td>0.166667</td>\n",
       "      <td>0.333333</td>\n",
       "    </tr>\n",
       "    <tr>\n",
       "      <th>alvo</th>\n",
       "      <td>6.431798</td>\n",
       "      <td>6.468521</td>\n",
       "    </tr>\n",
       "  </tbody>\n",
       "</table>\n",
       "</div>"
      ],
      "text/plain": [
       "                       0          1\n",
       "NNRS            0.750000   0.750000\n",
       "GATS5v          0.857987   1.052524\n",
       "GATS7i          1.166730   0.904085\n",
       "P_VSA_LogP_4  121.268295  88.678150\n",
       "P_VSA_s_5      33.190527  18.010751\n",
       "Eta_betaP      25.000000  22.500000\n",
       "Chi1_EA(dm)     6.140888  14.113280\n",
       "SM11_AEA(ri)    4.575986   4.609386\n",
       "Mor13v         -0.879274  -1.088973\n",
       "B07[N-F]        1.000000   0.000000\n",
       "F05[N-F]        1.000000   0.000000\n",
       "F05[O-O]        0.000000   0.000000\n",
       "LLS_01          0.166667   0.333333\n",
       "alvo            6.431798   6.468521"
      ]
     },
     "execution_count": 1,
     "metadata": {},
     "output_type": "execute_result"
    }
   ],
   "source": [
    "# Import the data\n",
    "\n",
    "import pandas as pd\n",
    "\n",
    "data = pd.read_csv('base3.csv')\n",
    "\n",
    "data.head(2).T"
   ]
  },
  {
   "cell_type": "code",
   "execution_count": 2,
   "metadata": {},
   "outputs": [],
   "source": [
    "#idx = [77, 81, 84, 92, 98]\n",
    "#data = data.drop(idx,0)\n",
    "#data.shape"
   ]
  },
  {
   "cell_type": "code",
   "execution_count": 3,
   "metadata": {},
   "outputs": [
    {
     "data": {
      "text/html": [
       "<div>\n",
       "<style scoped>\n",
       "    .dataframe tbody tr th:only-of-type {\n",
       "        vertical-align: middle;\n",
       "    }\n",
       "\n",
       "    .dataframe tbody tr th {\n",
       "        vertical-align: top;\n",
       "    }\n",
       "\n",
       "    .dataframe thead th {\n",
       "        text-align: right;\n",
       "    }\n",
       "</style>\n",
       "<table border=\"1\" class=\"dataframe\">\n",
       "  <thead>\n",
       "    <tr style=\"text-align: right;\">\n",
       "      <th></th>\n",
       "      <th>NNRS</th>\n",
       "      <th>GATS5v</th>\n",
       "      <th>GATS7i</th>\n",
       "      <th>P_VSA_LogP_4</th>\n",
       "      <th>P_VSA_s_5</th>\n",
       "      <th>Eta_betaP</th>\n",
       "      <th>Chi1_EA(dm)</th>\n",
       "      <th>SM11_AEA(ri)</th>\n",
       "      <th>Mor13v</th>\n",
       "      <th>B07[N-F]</th>\n",
       "      <th>F05[N-F]</th>\n",
       "      <th>F05[O-O]</th>\n",
       "      <th>LLS_01</th>\n",
       "      <th>alvo</th>\n",
       "    </tr>\n",
       "  </thead>\n",
       "  <tbody>\n",
       "    <tr>\n",
       "      <th>count</th>\n",
       "      <td>117.000000</td>\n",
       "      <td>117.000000</td>\n",
       "      <td>117.000000</td>\n",
       "      <td>117.000000</td>\n",
       "      <td>117.000000</td>\n",
       "      <td>117.000000</td>\n",
       "      <td>117.000000</td>\n",
       "      <td>117.000000</td>\n",
       "      <td>117.000000</td>\n",
       "      <td>117.000000</td>\n",
       "      <td>117.000000</td>\n",
       "      <td>117.000000</td>\n",
       "      <td>117.000000</td>\n",
       "      <td>117.000000</td>\n",
       "    </tr>\n",
       "    <tr>\n",
       "      <th>mean</th>\n",
       "      <td>0.785043</td>\n",
       "      <td>0.984407</td>\n",
       "      <td>0.813803</td>\n",
       "      <td>102.453737</td>\n",
       "      <td>40.047243</td>\n",
       "      <td>28.051282</td>\n",
       "      <td>26.050540</td>\n",
       "      <td>4.613682</td>\n",
       "      <td>-1.434500</td>\n",
       "      <td>0.384615</td>\n",
       "      <td>0.863248</td>\n",
       "      <td>0.085470</td>\n",
       "      <td>0.210826</td>\n",
       "      <td>5.725175</td>\n",
       "    </tr>\n",
       "    <tr>\n",
       "      <th>std</th>\n",
       "      <td>0.022993</td>\n",
       "      <td>0.065593</td>\n",
       "      <td>0.129275</td>\n",
       "      <td>14.702537</td>\n",
       "      <td>15.708500</td>\n",
       "      <td>3.418626</td>\n",
       "      <td>6.849924</td>\n",
       "      <td>0.004607</td>\n",
       "      <td>0.203981</td>\n",
       "      <td>0.488597</td>\n",
       "      <td>1.376565</td>\n",
       "      <td>0.309968</td>\n",
       "      <td>0.077041</td>\n",
       "      <td>0.676957</td>\n",
       "    </tr>\n",
       "    <tr>\n",
       "      <th>min</th>\n",
       "      <td>0.750000</td>\n",
       "      <td>0.851824</td>\n",
       "      <td>0.535831</td>\n",
       "      <td>83.973500</td>\n",
       "      <td>18.010751</td>\n",
       "      <td>22.500000</td>\n",
       "      <td>6.140888</td>\n",
       "      <td>4.575986</td>\n",
       "      <td>-1.854624</td>\n",
       "      <td>0.000000</td>\n",
       "      <td>0.000000</td>\n",
       "      <td>0.000000</td>\n",
       "      <td>0.166667</td>\n",
       "      <td>4.522879</td>\n",
       "    </tr>\n",
       "    <tr>\n",
       "      <th>25%</th>\n",
       "      <td>0.750000</td>\n",
       "      <td>0.939553</td>\n",
       "      <td>0.726618</td>\n",
       "      <td>88.678150</td>\n",
       "      <td>36.021501</td>\n",
       "      <td>23.000000</td>\n",
       "      <td>22.305156</td>\n",
       "      <td>4.609387</td>\n",
       "      <td>-1.592759</td>\n",
       "      <td>0.000000</td>\n",
       "      <td>0.000000</td>\n",
       "      <td>0.000000</td>\n",
       "      <td>0.166667</td>\n",
       "      <td>5.300162</td>\n",
       "    </tr>\n",
       "    <tr>\n",
       "      <th>50%</th>\n",
       "      <td>0.800000</td>\n",
       "      <td>0.971291</td>\n",
       "      <td>0.793499</td>\n",
       "      <td>113.823077</td>\n",
       "      <td>36.021501</td>\n",
       "      <td>30.000000</td>\n",
       "      <td>26.077640</td>\n",
       "      <td>4.615905</td>\n",
       "      <td>-1.466393</td>\n",
       "      <td>0.000000</td>\n",
       "      <td>0.000000</td>\n",
       "      <td>0.000000</td>\n",
       "      <td>0.166667</td>\n",
       "      <td>5.756962</td>\n",
       "    </tr>\n",
       "    <tr>\n",
       "      <th>75%</th>\n",
       "      <td>0.800000</td>\n",
       "      <td>1.038441</td>\n",
       "      <td>0.930368</td>\n",
       "      <td>118.527727</td>\n",
       "      <td>54.032252</td>\n",
       "      <td>30.500000</td>\n",
       "      <td>30.146704</td>\n",
       "      <td>4.615931</td>\n",
       "      <td>-1.287729</td>\n",
       "      <td>1.000000</td>\n",
       "      <td>2.000000</td>\n",
       "      <td>0.000000</td>\n",
       "      <td>0.333333</td>\n",
       "      <td>6.050610</td>\n",
       "    </tr>\n",
       "    <tr>\n",
       "      <th>max</th>\n",
       "      <td>0.800000</td>\n",
       "      <td>1.205891</td>\n",
       "      <td>1.166730</td>\n",
       "      <td>121.268295</td>\n",
       "      <td>99.986346</td>\n",
       "      <td>31.000000</td>\n",
       "      <td>44.490042</td>\n",
       "      <td>4.616051</td>\n",
       "      <td>-0.879274</td>\n",
       "      <td>1.000000</td>\n",
       "      <td>6.000000</td>\n",
       "      <td>2.000000</td>\n",
       "      <td>0.500000</td>\n",
       "      <td>8.000000</td>\n",
       "    </tr>\n",
       "  </tbody>\n",
       "</table>\n",
       "</div>"
      ],
      "text/plain": [
       "             NNRS      GATS5v      GATS7i  P_VSA_LogP_4   P_VSA_s_5  \\\n",
       "count  117.000000  117.000000  117.000000    117.000000  117.000000   \n",
       "mean     0.785043    0.984407    0.813803    102.453737   40.047243   \n",
       "std      0.022993    0.065593    0.129275     14.702537   15.708500   \n",
       "min      0.750000    0.851824    0.535831     83.973500   18.010751   \n",
       "25%      0.750000    0.939553    0.726618     88.678150   36.021501   \n",
       "50%      0.800000    0.971291    0.793499    113.823077   36.021501   \n",
       "75%      0.800000    1.038441    0.930368    118.527727   54.032252   \n",
       "max      0.800000    1.205891    1.166730    121.268295   99.986346   \n",
       "\n",
       "        Eta_betaP  Chi1_EA(dm)  SM11_AEA(ri)      Mor13v    B07[N-F]  \\\n",
       "count  117.000000   117.000000    117.000000  117.000000  117.000000   \n",
       "mean    28.051282    26.050540      4.613682   -1.434500    0.384615   \n",
       "std      3.418626     6.849924      0.004607    0.203981    0.488597   \n",
       "min     22.500000     6.140888      4.575986   -1.854624    0.000000   \n",
       "25%     23.000000    22.305156      4.609387   -1.592759    0.000000   \n",
       "50%     30.000000    26.077640      4.615905   -1.466393    0.000000   \n",
       "75%     30.500000    30.146704      4.615931   -1.287729    1.000000   \n",
       "max     31.000000    44.490042      4.616051   -0.879274    1.000000   \n",
       "\n",
       "         F05[N-F]    F05[O-O]      LLS_01        alvo  \n",
       "count  117.000000  117.000000  117.000000  117.000000  \n",
       "mean     0.863248    0.085470    0.210826    5.725175  \n",
       "std      1.376565    0.309968    0.077041    0.676957  \n",
       "min      0.000000    0.000000    0.166667    4.522879  \n",
       "25%      0.000000    0.000000    0.166667    5.300162  \n",
       "50%      0.000000    0.000000    0.166667    5.756962  \n",
       "75%      2.000000    0.000000    0.333333    6.050610  \n",
       "max      6.000000    2.000000    0.500000    8.000000  "
      ]
     },
     "execution_count": 3,
     "metadata": {},
     "output_type": "execute_result"
    }
   ],
   "source": [
    "data.describe()"
   ]
  },
  {
   "cell_type": "code",
   "execution_count": 4,
   "metadata": {},
   "outputs": [
    {
     "data": {
      "text/plain": [
       "(117, 14)"
      ]
     },
     "execution_count": 4,
     "metadata": {},
     "output_type": "execute_result"
    }
   ],
   "source": [
    "#data.drop(columns=['NNRS'], axis=1, inplace=True)\n",
    "data.shape"
   ]
  },
  {
   "cell_type": "code",
   "execution_count": 5,
   "metadata": {},
   "outputs": [],
   "source": [
    "# Split the data into two dataframes\n",
    "X_data = data.iloc[:,:-1]\n",
    "y_data = data.iloc[:,-1]"
   ]
  },
  {
   "cell_type": "code",
   "execution_count": 6,
   "metadata": {},
   "outputs": [],
   "source": [
    "from sklearn.model_selection import train_test_split\n",
    "\n",
    "X_train, X_test, y_train, y_test = train_test_split(X_data, y_data, train_size=.8, random_state=0)"
   ]
  },
  {
   "cell_type": "code",
   "execution_count": 7,
   "metadata": {},
   "outputs": [],
   "source": [
    "# Fit a K-nearest neighbors model with a value of k=3\n",
    "from sklearn.ensemble import RandomForestRegressor\n",
    "\n",
    "rf = RandomForestRegressor(n_estimators=100, max_features=4)#criterion='poisson'\n",
    "# n_estimators=100, max_features=12\n",
    "\n",
    "rf = rf.fit(X_train, y_train)\n",
    "\n",
    "y_pred = rf.predict(X_test)"
   ]
  },
  {
   "cell_type": "code",
   "execution_count": 8,
   "metadata": {},
   "outputs": [
    {
     "data": {
      "text/plain": [
       "<matplotlib.collections.PathCollection at 0x7faa0351b1d0>"
      ]
     },
     "execution_count": 8,
     "metadata": {},
     "output_type": "execute_result"
    },
    {
     "data": {
      "image/png": "[encoded data removed]",
      "text/plain": [
       "<Figure size 432x288 with 1 Axes>"
      ]
     },
     "metadata": {
      "needs_background": "light"
     },
     "output_type": "display_data"
    }
   ],
   "source": [
    "import matplotlib.pyplot as plt\n",
    "plt.scatter(y_test, y_pred)"
   ]
  },
  {
   "cell_type": "code",
   "execution_count": 9,
   "metadata": {},
   "outputs": [
    {
     "name": "stdout",
     "output_type": "stream",
     "text": [
      "R: 0.7882316773070411\n",
      "R2: 0.6213091771102714\n"
     ]
    }
   ],
   "source": [
    "from scipy import stats\n",
    "r = stats.pearsonr(y_test, y_pred)[0]\n",
    "r2 = r * r\n",
    "print(f'R: {r}' )\n",
    "print(f'R2: {r2}' )"
   ]
  },
  {
   "cell_type": "markdown",
   "metadata": {},
   "source": [
    "### Feature importance based on mean decrease in impurity"
   ]
  },
  {
   "cell_type": "code",
   "execution_count": 13,
   "metadata": {},
   "outputs": [],
   "source": [
    "import time\n",
    "import numpy as np"
   ]
  },
  {
   "cell_type": "code",
   "execution_count": 14,
   "metadata": {},
   "outputs": [
    {
     "name": "stdout",
     "output_type": "stream",
     "text": [
      "Elapsed time to compute the importances: 0.023 seconds\n"
     ]
    }
   ],
   "source": [
    "start_time = time.time()\n",
    "importances = rf.feature_importances_\n",
    "std = np.std([tree.feature_importances_ for tree in rf.estimators_], axis=0)\n",
    "elapsed_time = time.time() - start_time\n",
    "\n",
    "print(f\"Elapsed time to compute the importances: {elapsed_time:.3f} seconds\")\n"
   ]
  },
  {
   "cell_type": "code",
   "execution_count": 15,
   "metadata": {},
   "outputs": [],
   "source": [
    "feature_names = list(X_train.columns)"
   ]
  },
  {
   "cell_type": "code",
   "execution_count": 16,
   "metadata": {},
   "outputs": [
    {
     "name": "stdout",
     "output_type": "stream",
     "text": [
      "Elapsed time to compute the importances: 3.339 seconds\n"
     ]
    }
   ],
   "source": [
    "from sklearn.inspection import permutation_importance\n",
    "\n",
    "start_time = time.time()\n",
    "result = permutation_importance(\n",
    "    rf, X_test, y_test, n_repeats=10, random_state=42, n_jobs=2\n",
    ")\n",
    "elapsed_time = time.time() - start_time\n",
    "print(f\"Elapsed time to compute the importances: {elapsed_time:.3f} seconds\")\n",
    "\n",
    "forest_importances = pd.Series(result.importances_mean, index=feature_names)"
   ]
  },
  {
   "cell_type": "code",
   "execution_count": 17,
   "metadata": {},
   "outputs": [],
   "source": [
    "most_important = forest_importances.sort_values(ascending=False)[:8]\n",
    "l_X  = [x for x, y in most_important.items()]\n",
    "l_Y  = [y for x, y in most_important.items()]"
   ]
  },
  {
   "cell_type": "code",
   "execution_count": 18,
   "metadata": {},
   "outputs": [
    {
     "data": {
      "text/plain": [
       "['P_VSA_LogP_4',\n",
       " 'SM11_AEA(ri)',\n",
       " 'GATS5v',\n",
       " 'GATS7i',\n",
       " 'F05[N-F]',\n",
       " 'Chi1_EA(dm)',\n",
       " 'Eta_betaP',\n",
       " 'B07[N-F]']"
      ]
     },
     "execution_count": 18,
     "metadata": {},
     "output_type": "execute_result"
    }
   ],
   "source": [
    "l_X"
   ]
  },
  {
   "cell_type": "code",
   "execution_count": 19,
   "metadata": {},
   "outputs": [
    {
     "data": {
      "text/plain": [
       "[0.3119346561941908,\n",
       " 0.16094757216567285,\n",
       " 0.10297269384817995,\n",
       " 0.07494243908131099,\n",
       " 0.020024452036588203,\n",
       " 0.014337636623062866,\n",
       " 0.010167942067741164,\n",
       " 0.005681413912615951]"
      ]
     },
     "execution_count": 19,
     "metadata": {},
     "output_type": "execute_result"
    }
   ],
   "source": [
    "l_Y"
   ]
  },
  {
   "cell_type": "code",
   "execution_count": 20,
   "metadata": {},
   "outputs": [
    {
     "data": {
      "image/png": "[encoded data removed]",
      "text/plain": [
       "<Figure size 1152x648 with 1 Axes>"
      ]
     },
     "metadata": {
      "needs_background": "light"
     },
     "output_type": "display_data"
    }
   ],
   "source": [
    "fig, ax = plt.subplots(figsize =(16, 9))\n",
    "ax.bar(l_X, l_Y, align='edge', width=0.4)\n",
    "plt.show()"
   ]
  },
  {
   "cell_type": "code",
   "execution_count": 21,
   "metadata": {},
   "outputs": [
    {
     "data": {
      "text/plain": [
       "0.5130179875995908"
      ]
     },
     "execution_count": 21,
     "metadata": {},
     "output_type": "execute_result"
    }
   ],
   "source": [
    "from sklearn.metrics import r2_score\n",
    "r2_score(y_test, y_pred)"
   ]
  }
 ],
 "metadata": {
  "kernelspec": {
   "display_name": "Python 3",
   "language": "python",
   "name": "python3"
  },
  "language_info": {
   "codemirror_mode": {
    "name": "ipython",
    "version": 3
   },
   "file_extension": ".py",
   "mimetype": "text/x-python",
   "name": "python",
   "nbconvert_exporter": "python",
   "pygments_lexer": "ipython3",
   "version": "3.7.6"
  }
 },
 "nbformat": 4,
 "nbformat_minor": 4
}
