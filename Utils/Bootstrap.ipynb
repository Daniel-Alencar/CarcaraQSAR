{
 "cells": [
  {
   "cell_type": "code",
   "execution_count": 1,
   "id": "a4ba5e82",
   "metadata": {},
   "outputs": [],
   "source": [
    "import pandas as pd\n",
    "from sklearn.ensemble import RandomForestRegressor\n",
    "from sklearn.utils import resample\n",
    "\n",
    "from sklearn.metrics import r2_score"
   ]
  },
  {
   "cell_type": "code",
   "execution_count": 2,
   "id": "3b55c423",
   "metadata": {},
   "outputs": [],
   "source": [
    "data = pd.read_csv('base3.csv')"
   ]
  },
  {
   "cell_type": "code",
   "execution_count": 3,
   "id": "ed3d1f04",
   "metadata": {},
   "outputs": [],
   "source": [
    "N = range(data.shape[0])\n",
    "lista = [x for x in N]"
   ]
  },
  {
   "cell_type": "code",
   "execution_count": 4,
   "id": "44b9ac6a",
   "metadata": {},
   "outputs": [],
   "source": [
    "train_index = resample(lista, n_samples=len(lista), replace=True)"
   ]
  },
  {
   "cell_type": "code",
   "execution_count": 5,
   "id": "63ee35b5",
   "metadata": {},
   "outputs": [],
   "source": [
    "test_index = [x for x in lista if x not in train_index]"
   ]
  },
  {
   "cell_type": "code",
   "execution_count": 6,
   "id": "bfec6753",
   "metadata": {},
   "outputs": [
    {
     "data": {
      "text/plain": [
       "44"
      ]
     },
     "execution_count": 6,
     "metadata": {},
     "output_type": "execute_result"
    }
   ],
   "source": [
    "len(test_index)"
   ]
  },
  {
   "cell_type": "code",
   "execution_count": 7,
   "id": "a21554dc",
   "metadata": {},
   "outputs": [],
   "source": [
    "L_Y = []\n",
    "L_Y_pred = []\n",
    "\n",
    "X_train = data.iloc[train_index,:-1]\n",
    "Y_train = data.iloc[train_index,-1]    \n",
    "X_teste = data.iloc[test_index,:-1]\n",
    "Y_teste = data.iloc[test_index,-1]\n",
    "rf = RandomForestRegressor(n_estimators=100, max_features=4)#criterion='poisson'\n",
    "rf = rf.fit(X_train, Y_train)\n",
    "y_pred = rf.predict(X_teste)\n"
   ]
  },
  {
   "cell_type": "code",
   "execution_count": 8,
   "id": "558819c2",
   "metadata": {},
   "outputs": [
    {
     "data": {
      "text/plain": [
       "<matplotlib.collections.PathCollection at 0x7f950766af90>"
      ]
     },
     "execution_count": 8,
     "metadata": {},
     "output_type": "execute_result"
    },
    {
     "data": {
      "image/png": "[encoded data removed]",
      "text/plain": [
       "<Figure size 432x288 with 1 Axes>"
      ]
     },
     "metadata": {
      "needs_background": "light"
     },
     "output_type": "display_data"
    }
   ],
   "source": [
    "import matplotlib.pyplot as plt\n",
    "\n",
    "L = [x[0] for x in L_Y_pred]\n",
    "\n",
    "plt.scatter(Y_teste, y_pred)"
   ]
  },
  {
   "cell_type": "code",
   "execution_count": 10,
   "id": "b789b446",
   "metadata": {},
   "outputs": [
    {
     "name": "stdout",
     "output_type": "stream",
     "text": [
      "r: 0.7435547155188565\n",
      "r2: 0.5417271638388341\n"
     ]
    }
   ],
   "source": [
    "from scipy import stats\n",
    "r = stats.pearsonr(Y_teste, y_pred)[0]\n",
    "r2 = r2_score(Y_teste, y_pred)\n",
    "print(f'r: {r}' )\n",
    "print(f'r2: {r2}' )"
   ]
  }
 ],
 "metadata": {
  "kernelspec": {
   "display_name": "Python 3",
   "language": "python",
   "name": "python3"
  },
  "language_info": {
   "codemirror_mode": {
    "name": "ipython",
    "version": 3
   },
   "file_extension": ".py",
   "mimetype": "text/x-python",
   "name": "python",
   "nbconvert_exporter": "python",
   "pygments_lexer": "ipython3",
   "version": "3.7.6"
  }
 },
 "nbformat": 4,
 "nbformat_minor": 5
}
